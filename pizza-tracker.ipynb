{
 "cells": [
  {
   "cell_type": "markdown",
   "metadata": {
    "collapsed": true
   },
   "source": [
    "# Pizza Tracker\n",
    "### This short notebook will request tracking information from Domino's for an order associated with a phone number"
   ]
  },
  {
   "cell_type": "code",
   "execution_count": null,
   "metadata": {},
   "outputs": [],
   "source": [
    "import requests \n",
    "import xmltodict\n",
    "import time\n",
    "\n",
    "# Enter the phone number for the order you'll be tracking\n",
    "# please note that format does matter - it must match the one you sent to Domino's\n",
    "PHONE_NUMBER = '5555555555'  "
   ]
  },
  {
   "cell_type": "code",
   "execution_count": null,
   "metadata": {},
   "outputs": [],
   "source": [
    "# These functions will help us track the order as it goes through Domino's system.\n",
    "\n",
    "def add_time(time, emoji):\n",
    "    '''Generates a line segment with a notch for each minute.'''\n",
    "    result = ''\n",
    "    if time:\n",
    "        result += emoji\n",
    "        for i in range(int(time) // 60):\n",
    "            result += '='\n",
    "    return result\n",
    "        \n",
    "def show_status(data):\n",
    "    '''Generates and prints a ASCII art timeline of our delivery's progress'''\n",
    "    result = ''\n",
    "    done = False\n",
    "    for stuff in [('MakeTimeSecs', '📱'), \n",
    "                  ('OvenTimeSecs', '🔥'), \n",
    "                  ('RackTimeSecs', '♨️'), \n",
    "                  ('OrderDeliveryTimeSecs', '🚘')]:\n",
    "        key, emoji = stuff\n",
    "        result += add_time(data[key], emoji)\n",
    "    if data['OrderStatus'] == 'Complete':\n",
    "        result += '😊'\n",
    "        done=True\n",
    "    print(result)\n",
    "    return done"
   ]
  },
  {
   "cell_type": "code",
   "execution_count": null,
   "metadata": {},
   "outputs": [],
   "source": [
    "# You can test your tracking here.  This should return the data representing the status of your pizza\n",
    "\n",
    "r = requests.get('https://trkweb.dominos.com/orderstorage/GetTrackerData', params={'Phone': PHONE_NUMBER})\n",
    "x = xmltodict.parse(r.text)\n",
    "data = x['soap:Envelope']['soap:Body']['GetTrackerDataResponse']['OrderStatuses']['OrderStatus']\n",
    "data"
   ]
  },
  {
   "cell_type": "code",
   "execution_count": null,
   "metadata": {},
   "outputs": [],
   "source": [
    "# When you run this cell, it will loop until the pizza is here. \n",
    "# Every 3 seconds it will print an updated tracker.\n",
    "\n",
    "while not show_status(data):    # print our tracker and return `True` if the pizza is here.\n",
    "    # if it's not here, we wait 3 seconds\n",
    "    time.sleep(3)\n",
    "    \n",
    "    # and then update the tracking info\n",
    "    r = requests.get('https://trkweb.dominos.com/orderstorage/GetTrackerData', params={'Phone': PHONE_NUMBER})\n",
    "    x = xmltodict.parse(r.text)\n",
    "    data = x['soap:Envelope']['soap:Body']['GetTrackerDataResponse']['OrderStatuses']['OrderStatus']\n"
   ]
  }
 ],
 "metadata": {
  "kernelspec": {
   "display_name": "Python 3",
   "language": "python",
   "name": "python3"
  },
  "language_info": {
   "codemirror_mode": {
    "name": "ipython",
    "version": 3
   },
   "file_extension": ".py",
   "mimetype": "text/x-python",
   "name": "python",
   "nbconvert_exporter": "python",
   "pygments_lexer": "ipython3",
   "version": "3.6.5"
  }
 },
 "nbformat": 4,
 "nbformat_minor": 1
}
