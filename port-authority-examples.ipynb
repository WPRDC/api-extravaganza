{
 "cells": [
  {
   "cell_type": "markdown",
   "metadata": {},
   "source": [
    "# Port Authority TrueTime Example\n",
    "In this example, we'll collect prediction data for a nearby bus stop, as well as get information about the nearest bus and display it on a simple map\n",
    "\n",
    "You can checkout the Port Authority's [TrueTime Map](http://truetime.portauthority.org/bustime/map/displaymap.jsp) to visually find the maps and routes you want to work with."
   ]
  },
  {
   "cell_type": "code",
   "execution_count": null,
   "metadata": {},
   "outputs": [],
   "source": [
    "import requests      # the best HTTP request library for python in our humble opinion\n",
    "\n",
    "# you don't have to use this unless you want to store your API key in a separate file\n",
    "# we're doing this to keep it secret during the demonstration\n",
    "# you can comment this out or delete it for your code\n",
    "from settings import TRUE_TIME_API_KEY     \n",
    "\n",
    "        \n",
    "# this is a date and time library to handle the time info\n",
    "from datetime import datetime\n",
    "\n",
    "# this library allows us to show a map in a jupyter notebook\n",
    "import folium\n",
    "\n",
    "# This stuff is here to pretty print the data we receive from the API\n",
    "import pprint as PP\n",
    "pp = PP.PrettyPrinter(indent=2)\n",
    "pprint = pp.pprint"
   ]
  },
  {
   "cell_type": "code",
   "execution_count": null,
   "metadata": {},
   "outputs": [],
   "source": [
    "# We'll need to set up some basic information to make the request\n",
    "\n",
    "# API Information\n",
    "API_ROOT_URL = \"https://truetime.portauthority.org/bustime/api/v3/\"\n",
    "\n",
    "STOPS_ENDPOINT = \"getstops\"\n",
    "\n",
    "PREDICTION_ENDPOINT = \"getpredictions\"\n",
    "\n",
    "BUS_ENDPOINT = \"getvehicles\"\n",
    "\n",
    "BUS_STOP_ID = 8189   # This is the inbound 71A stop down the street from Code & Supply\n",
    "                     # You can find the bus stop of your choosing on a map at \n",
    "                     # http://truetime.portauthority.org/bustime/map/displaymap.jsp\n",
    "        \n",
    "ROUTE_ID = '71A'     # These usually follow the route names you're familiar with. (54c and 54d both fall under 54)\n",
    "                     # Check the site above for a complete listing.\n",
    "\n",
    "# When you use this, replace TRUE_TIME_API_KEY with a string of your API key\n",
    "# e.g. API_KEY = \"123k1h4kjh325\"\n",
    "API_KEY = TRUE_TIME_API_KEY\n",
    "\n",
    "# Set up the parameters that we'll use in every call\n",
    "BASE_PARAMS = {\n",
    "    'key': API_KEY, \n",
    "    'format': 'json',\n",
    "    'rtpidatafeed': 'Port Authority Bus'\n",
    "}   \n"
   ]
  },
  {
   "cell_type": "code",
   "execution_count": null,
   "metadata": {},
   "outputs": [],
   "source": [
    "# In version 3 of the TrueTIme API, we need a rtpid for some reason.\n",
    "# You can see above that we're using `Port Authority Bus`.  Here's how to get it:\n",
    "\n",
    "r = requests.get(API_ROOT_URL + \"getrtpidatafeeds\", params=BASE_PARAMS)\n",
    "pprint((r.json()))"
   ]
  },
  {
   "cell_type": "code",
   "execution_count": null,
   "metadata": {},
   "outputs": [],
   "source": [
    "# Now that everything is set up, let's first look at our bus stop.\n",
    "stops_url = API_ROOT_URL + STOPS_ENDPOINT\n",
    "stops_url"
   ]
  },
  {
   "cell_type": "code",
   "execution_count": null,
   "metadata": {},
   "outputs": [],
   "source": [
    "# This will make a dict that has all the key-value pairs in `BASE_PARAMS` plus the `stp_id`\n",
    "stops_params = {\n",
    "    **BASE_PARAMS, # the `**` operator breaks apart the dictionary into it's key-value pairs\n",
    "    'stpid': BUS_STOP_ID\n",
    "}\n",
    "\n",
    "stops_params"
   ]
  },
  {
   "cell_type": "code",
   "execution_count": null,
   "metadata": {},
   "outputs": [],
   "source": [
    "# If we hit the `getbusstop` endpoint with our paramters, it should give us info on our stop.\n",
    "r = requests.get(stops_url, params=stops_params)\n",
    "bus_stop = r.json()\n",
    "pprint(bus_stop)"
   ]
  },
  {
   "cell_type": "code",
   "execution_count": null,
   "metadata": {},
   "outputs": [],
   "source": [
    "# Cool.  That's our bus stop.  There's not much to it, but we can use this information later on in the map!\n",
    "# Now let's look at some predictions for this bus stop.\n",
    "prediction_url = API_ROOT_URL + PREDICTION_ENDPOINT\n",
    "prediction_url"
   ]
  },
  {
   "cell_type": "code",
   "execution_count": null,
   "metadata": {},
   "outputs": [],
   "source": [
    "prediction_params = {\n",
    "    **BASE_PARAMS,\n",
    "    'stpid': BUS_STOP_ID,\n",
    "}\n",
    "prediction_params"
   ]
  },
  {
   "cell_type": "code",
   "execution_count": null,
   "metadata": {},
   "outputs": [],
   "source": [
    "r = requests.get(prediction_url, prediction_params)\n",
    "pprint(r.json())"
   ]
  },
  {
   "cell_type": "code",
   "execution_count": null,
   "metadata": {},
   "outputs": [],
   "source": [
    "# The above request didn't specifiy a route, so it shows all buses that are arriving within the next 30 mins.\n",
    "# We can specify just the 71A (pointless, I know since we're looking at the inbound stop, but still...)\n",
    "prediction_params['rt'] = ROUTE_ID\n",
    "prediction_params"
   ]
  },
  {
   "cell_type": "code",
   "execution_count": null,
   "metadata": {},
   "outputs": [],
   "source": [
    "r = requests.get(prediction_url, params=prediction_params)\n",
    "prediction_data = r.json()\n",
    "pprint(prediction_data)"
   ]
  },
  {
   "cell_type": "code",
   "execution_count": null,
   "metadata": {},
   "outputs": [],
   "source": [
    "# Now, if we want to make that human readable, we can put some of that data into a sentence.\n",
    "# First, we'll filter out just the data we need.  This will be just the closest 71A.\n",
    "our_prediction = prediction_data['bustime-response']['prd'][0]\n",
    "our_prediction"
   ]
  },
  {
   "cell_type": "code",
   "execution_count": null,
   "metadata": {},
   "outputs": [],
   "source": [
    "# Second, we'll find out how far out the bus is.\n",
    "# We must parse the two datetimes in the data `prdtm` and `tmstmp`\n",
    "current_time = datetime.strptime(our_prediction['tmstmp'], '%Y%m%d %H:%M')  # the second argument is the format\n",
    "                                                                            # for more info visit http://strftime.org/\n",
    "current_time.isoformat()"
   ]
  },
  {
   "cell_type": "code",
   "execution_count": null,
   "metadata": {},
   "outputs": [],
   "source": [
    "prediction_time = datetime.strptime(our_prediction['prdtm'], '%Y%m%d %H:%M')\n",
    "prediction_time.isoformat()"
   ]
  },
  {
   "cell_type": "code",
   "execution_count": null,
   "metadata": {},
   "outputs": [],
   "source": [
    "# Let's get a pretty version of that for our message.\n",
    "\n",
    "pretty_prediction_time = prediction_time.time().isoformat()[0:-3]   \n",
    "\n",
    "# The `.time().isoformat()` prints a nice format\n",
    "# And the `[0:-3]` cuts out the last 3 characters (':00'), the seconds,  which aren't useful\n",
    "\n",
    "pretty_prediction_time"
   ]
  },
  {
   "cell_type": "code",
   "execution_count": null,
   "metadata": {},
   "outputs": [],
   "source": [
    "time_left = prediction_time - current_time  # this returns a `timedelta` object \n",
    "                                            # https://docs.python.org/3/library/datetime.html#datetime.timedelta\n",
    "minutes = time_left.seconds / 60\n",
    "minutes"
   ]
  },
  {
   "cell_type": "code",
   "execution_count": null,
   "metadata": {},
   "outputs": [],
   "source": [
    "# Now that we have the predicted time and how far out that is, we can print it in a nice format!\n",
    "\n",
    "# Add a little preamble to our message based on how quick it's coming.\n",
    "warning = \"Better hurry up!\" if minutes < 10 else \"You've got time.\"\n",
    "\n",
    "message = \"{} The next {} is coming at {} which is in {} minute{}.\".format(\n",
    "    warning, \n",
    "    ROUTE_ID,\n",
    "    pretty_prediction_time,\n",
    "    int(minutes), # cast it to an int to hide the useless decimal\n",
    "    '' if minutes == 1 else 's'\n",
    ")\n",
    "message"
   ]
  },
  {
   "cell_type": "code",
   "execution_count": null,
   "metadata": {},
   "outputs": [],
   "source": [
    "# Now we can use all this data to show it on a map\n",
    "# See Eleanor Tutt's Code For Pittsburgh presentation's notebook for more details:\n",
    "# https://github.com/eleanortutt/codeforpgh-20180613/blob/master/code-for-pgh.ipynb\n",
    "\n",
    "m = folium.Map(location=[40.4599847,-79.9329759], zoom_start=16)\n",
    "m"
   ]
  },
  {
   "cell_type": "code",
   "execution_count": null,
   "metadata": {},
   "outputs": [],
   "source": [
    "# There's the map, lets add the stop and bus to it.\n",
    "# we can use the bus_stop data we got earlier\n",
    "bus_stop"
   ]
  },
  {
   "cell_type": "code",
   "execution_count": null,
   "metadata": {},
   "outputs": [],
   "source": [
    "# The coord are in the `lat` and `lon` keys.  Let's extract those for easy reuse.\n",
    "bs = bus_stop['bustime-response']['stops'][0]  # skip past the boilerplate to make our lives easier\n",
    "bus_stop_coords = [float(bs['lat']), float(bs['lon'])]  # we have to cast them because the API returns strings\n",
    "bus_stop_coords"
   ]
  },
  {
   "cell_type": "code",
   "execution_count": null,
   "metadata": {},
   "outputs": [],
   "source": [
    "# we can do the same with the bus, we just need it's vehicle id\n",
    "our_prediction"
   ]
  },
  {
   "cell_type": "code",
   "execution_count": null,
   "metadata": {},
   "outputs": [],
   "source": [
    "# it's vehicle id is int he 'vid' key\n",
    "our_prediction['vid']"
   ]
  },
  {
   "cell_type": "code",
   "execution_count": null,
   "metadata": {},
   "outputs": [],
   "source": [
    "# We can get info on the bus with the bus endpoint\n",
    "bus_url = API_ROOT_URL + BUS_ENDPOINT\n",
    "bus_url"
   ]
  },
  {
   "cell_type": "code",
   "execution_count": null,
   "metadata": {},
   "outputs": [],
   "source": [
    "# we request the bus we want using the vehicles id, which was in our prediciton response\n",
    "params = {\n",
    "    **BASE_PARAMS,\n",
    "    'vid': our_prediction['vid']\n",
    "}\n",
    "params"
   ]
  },
  {
   "cell_type": "code",
   "execution_count": null,
   "metadata": {},
   "outputs": [],
   "source": [
    "# we request that information\n",
    "r = requests.get(bus_url, params=params)\n",
    "our_bus = r.json()['bustime-response']['vehicle'][0]  # this time i'm cutting out all the crap from the start\n",
    "our_bus"
   ]
  },
  {
   "cell_type": "code",
   "execution_count": null,
   "metadata": {},
   "outputs": [],
   "source": [
    "bus_coords = [float(our_bus['lat']), float(our_bus['lon'])]\n",
    "bus_coords"
   ]
  },
  {
   "cell_type": "code",
   "execution_count": null,
   "metadata": {},
   "outputs": [],
   "source": [
    "# now we can make markers\n",
    "# i used data from the different objects to populat their popups\n",
    "bus_stop_marker = folium.Marker(bus_stop_coords, \n",
    "                                popup=bs['stpnm'])\n",
    "\n",
    "bus_marker = folium.Marker(bus_coords, \n",
    "                           icon=folium.Icon(icon='bus', color='red', prefix='fa'),\n",
    "                           popup='{} ({})\\n{}mins'.format(our_bus['rt'], our_bus['vid'], minutes))\n",
    "\n",
    "# and add them to the map\n",
    "bus_stop_marker.add_to(m)\n",
    "bus_marker.add_to(m)\n",
    "m"
   ]
  }
 ],
 "metadata": {
  "kernelspec": {
   "display_name": "Python 3",
   "language": "python",
   "name": "python3"
  },
  "language_info": {
   "codemirror_mode": {
    "name": "ipython",
    "version": 3
   },
   "file_extension": ".py",
   "mimetype": "text/x-python",
   "name": "python",
   "nbconvert_exporter": "python",
   "pygments_lexer": "ipython3",
   "version": "3.6.4"
  }
 },
 "nbformat": 4,
 "nbformat_minor": 2
}
