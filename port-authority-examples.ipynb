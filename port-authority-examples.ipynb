{
 "cells": [
  {
   "cell_type": "markdown",
   "metadata": {},
   "source": [
    "# Port Authority TrueTime Example\n",
    "In this example, we'll collect prediction data for a nearby bus stop, as well as get information about the nearest bus and display it on a simple map\n",
    "\n",
    "You can checkout the Port Authority's [TrueTime Map](http://truetime.portauthority.org/bustime/map/displaymap.jsp) to visually find the maps and routes you want to work with."
   ]
  },
  {
   "cell_type": "code",
   "execution_count": 1,
   "metadata": {},
   "outputs": [],
   "source": [
    "import requests      # the best HTTP request library for python in our humble opinion\n",
    "\n",
    "# you don't have to use this unless you want to store your API key in a separate file\n",
    "# we're doing this to keep it secret during the demonstration\n",
    "# you can comment this out or delete it for your code\n",
    "from settings import TRUE_TIME_API_KEY     \n",
    "\n",
    "        \n",
    "# this is a date and time library to handle the time info\n",
    "from datetime import datetime\n",
    "\n",
    "# this library allows us to show a map in a jupyter notebook\n",
    "import folium\n",
    "\n",
    "# This stuff is here to pretty print the data we receive from the API\n",
    "import pprint as PP\n",
    "pp = PP.PrettyPrinter(indent=2)\n",
    "pprint = pp.pprint"
   ]
  },
  {
   "cell_type": "code",
   "execution_count": 2,
   "metadata": {},
   "outputs": [
    {
     "name": "stdout",
     "output_type": "stream",
     "text": [
      "qNFt32HZTGKjam53VtZbYC3yi\n"
     ]
    }
   ],
   "source": [
    "# We'll need to set up some basic information to make the request\n",
    "\n",
    "# API Information\n",
    "API_ROOT_URL = \"http://truetime.portauthority.org/bustime/api/v3/\"\n",
    "\n",
    "STOPS_ENDPOINT = \"getstops\"\n",
    "\n",
    "PREDICTION_ENDPOINT = \"getpredictions\"\n",
    "\n",
    "BUS_ENDPOINT = \"getvehicles\"\n",
    "\n",
    "BUS_STOP_ID = 8189   # This is the inbound 71A stop down the street from Code & Supply\n",
    "                     # You can find the bus stop of your choosing on a map at \n",
    "                     # http://truetime.portauthority.org/bustime/map/displaymap.jsp\n",
    "        \n",
    "ROUTE_ID = '71A'     # These usually follow the route names you're familiar with. (54c and 54d both fall under 54)\n",
    "                     # Check the site above for a complete listing.\n",
    "\n",
    "# When you use this, replace TRUE_TIME_API_KEY with a string of your API key\n",
    "# e.g. API_KEY = \"123k1h4kjh325\"\n",
    "API_KEY = TRUE_TIME_API_KEY\n",
    "\n",
    "# Set up the parameters that we'll use in every call\n",
    "BASE_PARAMS = {\n",
    "    'key': API_KEY, \n",
    "    'format': 'json',\n",
    "    'rtpidatafeed': 'Port Authority Bus'\n",
    "}   \n",
    "print(API_KEY)\n"
   ]
  },
  {
   "cell_type": "code",
   "execution_count": 3,
   "metadata": {},
   "outputs": [
    {
     "name": "stdout",
     "output_type": "stream",
     "text": [
      "{ 'bustime-response': { 'rtpidatafeeds': [ { 'displayname': 'Light Rail',\n",
      "                                             'enabled': 'true',\n",
      "                                             'name': 'Light Rail',\n",
      "                                             'source': 'BUSTIMEPID',\n",
      "                                             'visible': 'true'},\n",
      "                                           { 'displayname': 'Port Authority '\n",
      "                                                            'Bus',\n",
      "                                             'enabled': 'true',\n",
      "                                             'name': 'Port Authority Bus',\n",
      "                                             'source': 'BUSTIMEPID',\n",
      "                                             'visible': 'true'}]}}\n"
     ]
    }
   ],
   "source": [
    "# In version 3 of the TrueTIme API, we need a rtpid for some reason.\n",
    "# You can see above that we're using `Port Authority Bus`.  Here's how to get it:\n",
    "\n",
    "r = requests.get(API_ROOT_URL + \"getrtpidatafeeds\", params=BASE_PARAMS)\n",
    "pprint((r.json()))"
   ]
  },
  {
   "cell_type": "code",
   "execution_count": 4,
   "metadata": {},
   "outputs": [
    {
     "data": {
      "text/plain": [
       "'http://truetime.portauthority.org/bustime/api/v3/getstops'"
      ]
     },
     "execution_count": 4,
     "metadata": {},
     "output_type": "execute_result"
    }
   ],
   "source": [
    "# Now that everything is set up, let's first look at our bus stop.\n",
    "stops_url = API_ROOT_URL + STOPS_ENDPOINT\n",
    "stops_url"
   ]
  },
  {
   "cell_type": "code",
   "execution_count": 5,
   "metadata": {},
   "outputs": [
    {
     "data": {
      "text/plain": [
       "{'key': 'qNFt32HZTGKjam53VtZbYC3yi',\n",
       " 'format': 'json',\n",
       " 'rtpidatafeed': 'Port Authority Bus',\n",
       " 'stpid': 8189}"
      ]
     },
     "execution_count": 5,
     "metadata": {},
     "output_type": "execute_result"
    }
   ],
   "source": [
    "# This will make a dict that has all the key-value pairs in `BASE_PARAMS` plus the `stp_id`\n",
    "stops_params = {\n",
    "    **BASE_PARAMS, # the `**` operator breaks apart the dictionary into it's key-value pairs\n",
    "    'stpid': BUS_STOP_ID\n",
    "}\n",
    "\n",
    "stops_params"
   ]
  },
  {
   "cell_type": "code",
   "execution_count": 6,
   "metadata": {},
   "outputs": [
    {
     "name": "stdout",
     "output_type": "stream",
     "text": [
      "{ 'bustime-response': { 'stops': [ { 'lat': 40.4608079332702,\n",
      "                                     'lon': -79.93236599999989,\n",
      "                                     'stpid': '8189',\n",
      "                                     'stpnm': 'Negley Ave at Friendship Ave'}]}}\n"
     ]
    }
   ],
   "source": [
    "# If we hit the `getbusstop` endpoint with our paramters, it should give us info on our stop.\n",
    "r = requests.get(stops_url, params=stops_params)\n",
    "bus_stop = r.json()\n",
    "pprint(bus_stop)"
   ]
  },
  {
   "cell_type": "code",
   "execution_count": 7,
   "metadata": {},
   "outputs": [
    {
     "data": {
      "text/plain": [
       "'http://truetime.portauthority.org/bustime/api/v3/getpredictions'"
      ]
     },
     "execution_count": 7,
     "metadata": {},
     "output_type": "execute_result"
    }
   ],
   "source": [
    "# Cool.  That's our bus stop.  There's not much to it, but we can use this information later on in the map!\n",
    "# Now let's look at some predictions for this bus stop.\n",
    "prediction_url = API_ROOT_URL + PREDICTION_ENDPOINT\n",
    "prediction_url"
   ]
  },
  {
   "cell_type": "code",
   "execution_count": 8,
   "metadata": {},
   "outputs": [
    {
     "data": {
      "text/plain": [
       "{'key': 'qNFt32HZTGKjam53VtZbYC3yi',\n",
       " 'format': 'json',\n",
       " 'rtpidatafeed': 'Port Authority Bus',\n",
       " 'stpid': 8189}"
      ]
     },
     "execution_count": 8,
     "metadata": {},
     "output_type": "execute_result"
    }
   ],
   "source": [
    "prediction_params = {\n",
    "    **BASE_PARAMS,\n",
    "    'stpid': BUS_STOP_ID,\n",
    "}\n",
    "prediction_params"
   ]
  },
  {
   "cell_type": "code",
   "execution_count": 9,
   "metadata": {},
   "outputs": [
    {
     "name": "stdout",
     "output_type": "stream",
     "text": [
      "{ 'bustime-response': { 'prd': [ { 'des': 'DOWNTOWN',\n",
      "                                   'dly': False,\n",
      "                                   'dstp': 5797,\n",
      "                                   'dyn': 0,\n",
      "                                   'prdctdn': '6',\n",
      "                                   'prdtm': '20191018 12:01',\n",
      "                                   'rt': '71A',\n",
      "                                   'rtdd': '71A',\n",
      "                                   'rtdir': 'INBOUND',\n",
      "                                   'stpid': '8189',\n",
      "                                   'stpnm': 'Negley Ave at Friendship Ave',\n",
      "                                   'tablockid': '071A-100',\n",
      "                                   'tatripid': '9107',\n",
      "                                   'tmstmp': '20191018 11:54',\n",
      "                                   'typ': 'A',\n",
      "                                   'vid': '6256',\n",
      "                                   'zone': ''},\n",
      "                                 { 'des': 'DOWNTOWN',\n",
      "                                   'dly': False,\n",
      "                                   'dstp': 10133,\n",
      "                                   'dyn': 0,\n",
      "                                   'prdctdn': '14',\n",
      "                                   'prdtm': '20191018 12:09',\n",
      "                                   'rt': '77',\n",
      "                                   'rtdd': '77',\n",
      "                                   'rtdir': 'INBOUND',\n",
      "                                   'stpid': '8189',\n",
      "                                   'stpnm': 'Negley Ave at Friendship Ave',\n",
      "                                   'tablockid': '077 -256',\n",
      "                                   'tatripid': '9311',\n",
      "                                   'tmstmp': '20191018 11:54',\n",
      "                                   'typ': 'A',\n",
      "                                   'vid': '6457',\n",
      "                                   'zone': ''},\n",
      "                                 { 'des': 'DOWNTOWN',\n",
      "                                   'dly': False,\n",
      "                                   'dstp': 15759,\n",
      "                                   'dyn': 0,\n",
      "                                   'prdctdn': '16',\n",
      "                                   'prdtm': '20191018 12:11',\n",
      "                                   'rt': '71C',\n",
      "                                   'rtdd': '71C',\n",
      "                                   'rtdir': 'INBOUND',\n",
      "                                   'stpid': '8189',\n",
      "                                   'stpnm': 'Negley Ave at Friendship Ave',\n",
      "                                   'tablockid': '071C-160',\n",
      "                                   'tatripid': '10158',\n",
      "                                   'tmstmp': '20191018 11:55',\n",
      "                                   'typ': 'A',\n",
      "                                   'vid': '6137',\n",
      "                                   'zone': ''},\n",
      "                                 { 'des': 'DOWNTOWN',\n",
      "                                   'dly': False,\n",
      "                                   'dstp': 9119,\n",
      "                                   'dyn': 0,\n",
      "                                   'prdctdn': '23',\n",
      "                                   'prdtm': '20191018 12:18',\n",
      "                                   'rt': '71A',\n",
      "                                   'rtdd': '71A',\n",
      "                                   'rtdir': 'INBOUND',\n",
      "                                   'stpid': '8189',\n",
      "                                   'stpnm': 'Negley Ave at Friendship Ave',\n",
      "                                   'tablockid': '071A-099',\n",
      "                                   'tatripid': '9110',\n",
      "                                   'tmstmp': '20191018 11:54',\n",
      "                                   'typ': 'A',\n",
      "                                   'vid': '6157',\n",
      "                                   'zone': ''}]}}\n"
     ]
    }
   ],
   "source": [
    "r = requests.get(prediction_url, prediction_params)\n",
    "pprint(r.json())"
   ]
  },
  {
   "cell_type": "code",
   "execution_count": 10,
   "metadata": {},
   "outputs": [
    {
     "data": {
      "text/plain": [
       "{'key': 'qNFt32HZTGKjam53VtZbYC3yi',\n",
       " 'format': 'json',\n",
       " 'rtpidatafeed': 'Port Authority Bus',\n",
       " 'stpid': 8189,\n",
       " 'rt': '71A'}"
      ]
     },
     "execution_count": 10,
     "metadata": {},
     "output_type": "execute_result"
    }
   ],
   "source": [
    "# The above request didn't specifiy a route, so it shows all buses that are arriving within the next 30 mins.\n",
    "# We can specify just the 71A (pointless, I know since we're looking at the inbound stop, but still...)\n",
    "prediction_params['rt'] = ROUTE_ID\n",
    "prediction_params"
   ]
  },
  {
   "cell_type": "code",
   "execution_count": 11,
   "metadata": {},
   "outputs": [
    {
     "name": "stdout",
     "output_type": "stream",
     "text": [
      "{ 'bustime-response': { 'prd': [ { 'des': 'DOWNTOWN',\n",
      "                                   'dly': False,\n",
      "                                   'dstp': 5797,\n",
      "                                   'dyn': 0,\n",
      "                                   'prdctdn': '6',\n",
      "                                   'prdtm': '20191018 12:01',\n",
      "                                   'rt': '71A',\n",
      "                                   'rtdd': '71A',\n",
      "                                   'rtdir': 'INBOUND',\n",
      "                                   'stpid': '8189',\n",
      "                                   'stpnm': 'Negley Ave at Friendship Ave',\n",
      "                                   'tablockid': '071A-100',\n",
      "                                   'tatripid': '9107',\n",
      "                                   'tmstmp': '20191018 11:54',\n",
      "                                   'typ': 'A',\n",
      "                                   'vid': '6256',\n",
      "                                   'zone': ''},\n",
      "                                 { 'des': 'DOWNTOWN',\n",
      "                                   'dly': False,\n",
      "                                   'dstp': 9119,\n",
      "                                   'dyn': 0,\n",
      "                                   'prdctdn': '23',\n",
      "                                   'prdtm': '20191018 12:18',\n",
      "                                   'rt': '71A',\n",
      "                                   'rtdd': '71A',\n",
      "                                   'rtdir': 'INBOUND',\n",
      "                                   'stpid': '8189',\n",
      "                                   'stpnm': 'Negley Ave at Friendship Ave',\n",
      "                                   'tablockid': '071A-099',\n",
      "                                   'tatripid': '9110',\n",
      "                                   'tmstmp': '20191018 11:55',\n",
      "                                   'typ': 'A',\n",
      "                                   'vid': '6157',\n",
      "                                   'zone': ''}]}}\n"
     ]
    }
   ],
   "source": [
    "r = requests.get(prediction_url, params=prediction_params)\n",
    "prediction_data = r.json()\n",
    "pprint(prediction_data)"
   ]
  },
  {
   "cell_type": "code",
   "execution_count": 12,
   "metadata": {},
   "outputs": [
    {
     "data": {
      "text/plain": [
       "{'tmstmp': '20191018 11:54',\n",
       " 'typ': 'A',\n",
       " 'stpnm': 'Negley Ave at Friendship Ave',\n",
       " 'stpid': '8189',\n",
       " 'vid': '6256',\n",
       " 'dstp': 5797,\n",
       " 'rt': '71A',\n",
       " 'rtdd': '71A',\n",
       " 'rtdir': 'INBOUND',\n",
       " 'des': 'DOWNTOWN',\n",
       " 'prdtm': '20191018 12:01',\n",
       " 'tablockid': '071A-100',\n",
       " 'tatripid': '9107',\n",
       " 'dly': False,\n",
       " 'dyn': 0,\n",
       " 'prdctdn': '6',\n",
       " 'zone': ''}"
      ]
     },
     "execution_count": 12,
     "metadata": {},
     "output_type": "execute_result"
    }
   ],
   "source": [
    "# Now, if we want to make that human readable, we can put some of that data into a sentence.\n",
    "# First, we'll filter out just the data we need.  This will be just the closest 71A.\n",
    "our_prediction = prediction_data['bustime-response']['prd'][0]\n",
    "our_prediction"
   ]
  },
  {
   "cell_type": "code",
   "execution_count": 13,
   "metadata": {},
   "outputs": [
    {
     "data": {
      "text/plain": [
       "'2019-10-18T11:54:00'"
      ]
     },
     "execution_count": 13,
     "metadata": {},
     "output_type": "execute_result"
    }
   ],
   "source": [
    "# Second, we'll find out how far out the bus is.\n",
    "# We must parse the two datetimes in the data `prdtm` and `tmstmp`\n",
    "current_time = datetime.strptime(our_prediction['tmstmp'], '%Y%m%d %H:%M')  # the second argument is the format\n",
    "                                                                            # for more info visit http://strftime.org/\n",
    "current_time.isoformat()"
   ]
  },
  {
   "cell_type": "code",
   "execution_count": 14,
   "metadata": {},
   "outputs": [
    {
     "data": {
      "text/plain": [
       "'2019-10-18T12:01:00'"
      ]
     },
     "execution_count": 14,
     "metadata": {},
     "output_type": "execute_result"
    }
   ],
   "source": [
    "prediction_time = datetime.strptime(our_prediction['prdtm'], '%Y%m%d %H:%M')\n",
    "prediction_time.isoformat()"
   ]
  },
  {
   "cell_type": "code",
   "execution_count": 15,
   "metadata": {},
   "outputs": [
    {
     "data": {
      "text/plain": [
       "'12:01'"
      ]
     },
     "execution_count": 15,
     "metadata": {},
     "output_type": "execute_result"
    }
   ],
   "source": [
    "# Let's get a pretty version of that for our message.\n",
    "\n",
    "pretty_prediction_time = prediction_time.time().isoformat()[0:-3]   \n",
    "\n",
    "# The `.time().isoformat()` prints a nice format\n",
    "# And the `[0:-3]` cuts out the last 3 characters (':00'), the seconds,  which aren't useful\n",
    "\n",
    "pretty_prediction_time"
   ]
  },
  {
   "cell_type": "code",
   "execution_count": 16,
   "metadata": {},
   "outputs": [
    {
     "data": {
      "text/plain": [
       "7.0"
      ]
     },
     "execution_count": 16,
     "metadata": {},
     "output_type": "execute_result"
    }
   ],
   "source": [
    "time_left = prediction_time - current_time  # this returns a `timedelta` object \n",
    "                                            # https://docs.python.org/3/library/datetime.html#datetime.timedelta\n",
    "minutes = time_left.seconds / 60\n",
    "minutes"
   ]
  },
  {
   "cell_type": "code",
   "execution_count": 17,
   "metadata": {},
   "outputs": [
    {
     "data": {
      "text/plain": [
       "'Better hurry up! The next 71A is coming at 12:01 which is in 7 minutes.'"
      ]
     },
     "execution_count": 17,
     "metadata": {},
     "output_type": "execute_result"
    }
   ],
   "source": [
    "# Now that we have the predicted time and how far out that is, we can print it in a nice format!\n",
    "\n",
    "# Add a little preamble to our message based on how quick it's coming.\n",
    "warning = \"Better hurry up!\" if minutes < 10 else \"You've got time.\"\n",
    "\n",
    "message = \"{} The next {} is coming at {} which is in {} minute{}.\".format(\n",
    "    warning, \n",
    "    ROUTE_ID,\n",
    "    pretty_prediction_time,\n",
    "    int(minutes), # cast it to an int to hide the useless decimal\n",
    "    '' if minutes == 1 else 's'\n",
    ")\n",
    "message"
   ]
  },
  {
   "cell_type": "code",
   "execution_count": 18,
   "metadata": {},
   "outputs": [
    {
     "data": {
      "text/html": [
       "<div style=\"width:100%;\"><div style=\"position:relative;width:100%;height:0;padding-bottom:60%;\"><iframe src=\"data:text/html;charset=utf-8;base64,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\" style=\"position:absolute;width:100%;height:100%;left:0;top:0;border:none !important;\" allowfullscreen webkitallowfullscreen mozallowfullscreen></iframe></div></div>"
      ],
      "text/plain": [
       "<folium.folium.Map at 0x10fd59dd8>"
      ]
     },
     "execution_count": 18,
     "metadata": {},
     "output_type": "execute_result"
    }
   ],
   "source": [
    "# Now we can use all this data to show it on a map\n",
    "# See Eleanor Tutt's Code For Pittsburgh presentation's notebook for more details:\n",
    "# https://github.com/eleanortutt/codeforpgh-20180613/blob/master/code-for-pgh.ipynb\n",
    "\n",
    "m = folium.Map(location=[40.4599847,-79.9329759], zoom_start=16)\n",
    "m"
   ]
  },
  {
   "cell_type": "code",
   "execution_count": 19,
   "metadata": {},
   "outputs": [
    {
     "data": {
      "text/plain": [
       "{'bustime-response': {'stops': [{'stpid': '8189',\n",
       "    'stpnm': 'Negley Ave at Friendship Ave',\n",
       "    'lat': 40.4608079332702,\n",
       "    'lon': -79.93236599999989}]}}"
      ]
     },
     "execution_count": 19,
     "metadata": {},
     "output_type": "execute_result"
    }
   ],
   "source": [
    "# There's the map, lets add the stop and bus to it.\n",
    "# we can use the bus_stop data we got earlier\n",
    "bus_stop"
   ]
  },
  {
   "cell_type": "code",
   "execution_count": 20,
   "metadata": {},
   "outputs": [
    {
     "data": {
      "text/plain": [
       "[40.4608079332702, -79.93236599999989]"
      ]
     },
     "execution_count": 20,
     "metadata": {},
     "output_type": "execute_result"
    }
   ],
   "source": [
    "# The coord are in the `lat` and `lon` keys.  Let's extract those for easy reuse.\n",
    "bs = bus_stop['bustime-response']['stops'][0]  # skip past the boilerplate to make our lives easier\n",
    "bus_stop_coords = [float(bs['lat']), float(bs['lon'])]  # we have to cast them because the API returns strings\n",
    "bus_stop_coords"
   ]
  },
  {
   "cell_type": "code",
   "execution_count": 21,
   "metadata": {},
   "outputs": [
    {
     "data": {
      "text/plain": [
       "{'tmstmp': '20191018 11:54',\n",
       " 'typ': 'A',\n",
       " 'stpnm': 'Negley Ave at Friendship Ave',\n",
       " 'stpid': '8189',\n",
       " 'vid': '6256',\n",
       " 'dstp': 5797,\n",
       " 'rt': '71A',\n",
       " 'rtdd': '71A',\n",
       " 'rtdir': 'INBOUND',\n",
       " 'des': 'DOWNTOWN',\n",
       " 'prdtm': '20191018 12:01',\n",
       " 'tablockid': '071A-100',\n",
       " 'tatripid': '9107',\n",
       " 'dly': False,\n",
       " 'dyn': 0,\n",
       " 'prdctdn': '6',\n",
       " 'zone': ''}"
      ]
     },
     "execution_count": 21,
     "metadata": {},
     "output_type": "execute_result"
    }
   ],
   "source": [
    "# we can do the same with the bus, we just need it's vehicle id\n",
    "our_prediction"
   ]
  },
  {
   "cell_type": "code",
   "execution_count": 22,
   "metadata": {},
   "outputs": [
    {
     "data": {
      "text/plain": [
       "'6256'"
      ]
     },
     "execution_count": 22,
     "metadata": {},
     "output_type": "execute_result"
    }
   ],
   "source": [
    "# it's vehicle id is int he 'vid' key\n",
    "our_prediction['vid']"
   ]
  },
  {
   "cell_type": "code",
   "execution_count": 23,
   "metadata": {},
   "outputs": [
    {
     "data": {
      "text/plain": [
       "'http://truetime.portauthority.org/bustime/api/v3/getvehicles'"
      ]
     },
     "execution_count": 23,
     "metadata": {},
     "output_type": "execute_result"
    }
   ],
   "source": [
    "# We can get info on the bus with the bus endpoint\n",
    "bus_url = API_ROOT_URL + BUS_ENDPOINT\n",
    "bus_url"
   ]
  },
  {
   "cell_type": "code",
   "execution_count": 30,
   "metadata": {},
   "outputs": [
    {
     "data": {
      "text/plain": [
       "{'key': 'qNFt32HZTGKjam53VtZbYC3yi',\n",
       " 'format': 'json',\n",
       " 'rtpidatafeed': 'Port Authority Bus',\n",
       " 'vid': '6256'}"
      ]
     },
     "execution_count": 30,
     "metadata": {},
     "output_type": "execute_result"
    }
   ],
   "source": [
    "# we request the bus we want using the vehicles id, which was in our prediciton response\n",
    "params = {\n",
    "    **BASE_PARAMS,\n",
    "    'vid': our_prediction['vid']\n",
    "}\n",
    "params"
   ]
  },
  {
   "cell_type": "code",
   "execution_count": 29,
   "metadata": {},
   "outputs": [
    {
     "data": {
      "text/plain": [
       "{'vid': '6256',\n",
       " 'rtpidatafeed': 'Port Authority Bus',\n",
       " 'tmstmp': '20191018 11:56',\n",
       " 'lat': '40.472220999295594',\n",
       " 'lon': '-79.92596560618917',\n",
       " 'hdg': '198',\n",
       " 'pid': 6561,\n",
       " 'rt': '71A',\n",
       " 'des': 'DOWNTOWN',\n",
       " 'pdist': 4275,\n",
       " 'dly': False,\n",
       " 'spd': 15,\n",
       " 'tatripid': '9107',\n",
       " 'tablockid': '071A-100',\n",
       " 'zone': '',\n",
       " 'mode': 1,\n",
       " 'psgld': 'N/A'}"
      ]
     },
     "execution_count": 29,
     "metadata": {},
     "output_type": "execute_result"
    }
   ],
   "source": [
    "# we request that information\n",
    "r = requests.get(bus_url, params=params)\n",
    "our_bus = r.json()['bustime-response']['vehicle'][0]  # this time i'm cutting out all the crap from the start\n",
    "our_bus"
   ]
  },
  {
   "cell_type": "code",
   "execution_count": 26,
   "metadata": {},
   "outputs": [
    {
     "data": {
      "text/plain": [
       "[40.474020410756594, -79.92517565117508]"
      ]
     },
     "execution_count": 26,
     "metadata": {},
     "output_type": "execute_result"
    }
   ],
   "source": [
    "bus_coords = [float(our_bus['lat']), float(our_bus['lon'])]\n",
    "bus_coords"
   ]
  },
  {
   "cell_type": "code",
   "execution_count": 27,
   "metadata": {
    "scrolled": true
   },
   "outputs": [
    {
     "data": {
      "text/html": [
       "<div style=\"width:100%;\"><div style=\"position:relative;width:100%;height:0;padding-bottom:60%;\"><iframe src=\"data:text/html;charset=utf-8;base64,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\" style=\"position:absolute;width:100%;height:100%;left:0;top:0;border:none !important;\" allowfullscreen webkitallowfullscreen mozallowfullscreen></iframe></div></div>"
      ],
      "text/plain": [
       "<folium.folium.Map at 0x10fd59dd8>"
      ]
     },
     "execution_count": 27,
     "metadata": {},
     "output_type": "execute_result"
    }
   ],
   "source": [
    "# now we can make markers\n",
    "# i used data from the different objects to populat their popups\n",
    "bus_stop_marker = folium.Marker(bus_stop_coords, \n",
    "                                popup=bs['stpnm'])\n",
    "\n",
    "bus_marker = folium.Marker(bus_coords, \n",
    "                           icon=folium.Icon(icon='bus', color='red', prefix='fa'),\n",
    "                           popup='{} ({})\\n{}mins'.format(our_bus['rt'], our_bus['vid'], minutes))\n",
    "\n",
    "# and add them to the map\n",
    "bus_stop_marker.add_to(m)\n",
    "bus_marker.add_to(m)\n",
    "m"
   ]
  },
  {
   "cell_type": "code",
   "execution_count": null,
   "metadata": {},
   "outputs": [],
   "source": []
  }
 ],
 "metadata": {
  "kernelspec": {
   "display_name": "Python 3",
   "language": "python",
   "name": "python3"
  },
  "language_info": {
   "codemirror_mode": {
    "name": "ipython",
    "version": 3
   },
   "file_extension": ".py",
   "mimetype": "text/x-python",
   "name": "python",
   "nbconvert_exporter": "python",
   "pygments_lexer": "ipython3",
   "version": "3.6.5"
  }
 },
 "nbformat": 4,
 "nbformat_minor": 2
}
