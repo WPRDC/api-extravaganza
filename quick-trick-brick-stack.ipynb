{
 "cells": [
  {
   "cell_type": "markdown",
   "metadata": {},
   "source": [
    "\"Look, sir.  Look, sir.  Mr. Knox, sir.  \n",
    "Let's do tricks with bricks and blocks, sir.  \n",
    "Let's do tricks with chicks and clocks, sir.  \n",
    "\n",
    "First, I'll make a quick trick brick stack.  \n",
    "Then I'll make a quick trick block stack.\"  \n",
    "\n",
    "- Fox in Socks, by Dr. Seuss\n"
   ]
  },
  {
   "cell_type": "markdown",
   "metadata": {},
   "source": [
    "What follows is two sets of functions you can combine to first get some data from an API and then do something with it (usually using another API).\n",
    "\n",
    "Your assignment is to pick some functions, combine them (as shown in the example below), to do things like:  \n",
    "   * text Chuck Norris jokes to Steve\n",
    "   \n",
    "   "
   ]
  },
  {
   "cell_type": "markdown",
   "metadata": {},
   "source": [
    "# Data-getting bricks"
   ]
  },
  {
   "cell_type": "code",
   "execution_count": 21,
   "metadata": {},
   "outputs": [],
   "source": [
    "def get_another_chuck_norris_joke():\n",
    "    \"\"\"Returns a Chuck Norris joke as a 100% ASCII string (as Chuck Norris intended).\"\"\"\n",
    "    import requests\n",
    "    r = requests.get(\"http://api.icndb.com/jokes/random?exclude=[explicit]\")\n",
    "    escaped_joke = r.json()['value']['joke'] # The escaped version may contain &quot; instead of an ASCII quote character.\n",
    "    import html\n",
    "    ascii_joke = html.unescape(escaped_joke)\n",
    "    return ascii_joke"
   ]
  },
  {
   "cell_type": "code",
   "execution_count": 58,
   "metadata": {},
   "outputs": [],
   "source": [
    "def max_h2s_so_far_today(station='Liberty'):\n",
    "    \"\"\"Get the highest concentration of hydrogen sulfide measured at a particular station (defaulting to Liberty) in Allegheny County so far today.  See the air-quality-exploration notebook for a detailed description of how this function was put together.\"\"\"\n",
    "    def query_resource(site,query):\n",
    "        \"\"\"Use the datastore_search_sql API endpoint to query a CKAN resource.\"\"\"\n",
    "        import ckanapi\n",
    "        ckan = ckanapi.RemoteCKAN(site)\n",
    "        response = ckan.action.datastore_search_sql(sql=query)\n",
    "        return response['records']\n",
    "\n",
    "    site = \"https://data.wprdc.org\"\n",
    "    daily_air_quality_resource_id = \"967f1285-f8fb-4785-9673-64a8ae47588d\"\n",
    "    subset = query_resource(site,\n",
    "    query=\"SELECT site, datetime, h2s FROM \\\"{}\\\" WHERE site = '{}' AND stat = 'Max' ORDER BY datetime DESC LIMIT 1\".format(daily_air_quality_resource_id,station))\n",
    "    reading = subset[0]['h2s']\n",
    "    if reading is None:\n",
    "        return \"No reading. Sorry!\"\n",
    "    else:\n",
    "        return \"{} ppm\".format(reading)"
   ]
  },
  {
   "cell_type": "code",
   "execution_count": null,
   "metadata": {},
   "outputs": [],
   "source": [
    "def get_311_requests(category=None, neighborhood=None, time_range='most_recent_one'):\n",
    "    \"\"\"Get 311 complaints for the City of Pittsburgh based on category, neighborhood, and time range.\n",
    "    \n",
    "    Returns a string describing the request or requests (aggregating for multiple requests).\"\"\"\n",
    "    def query_resource(site,query):\n",
    "        \"\"\"Use the datastore_search_sql API endpoint to query a CKAN resource.\"\"\"\n",
    "        import ckanapi\n",
    "        ckan = ckanapi.RemoteCKAN(site)\n",
    "        response = ckan.action.datastore_search_sql(sql=query)\n",
    "        return response['records']\n",
    "        site = \"https://data.wprdc.org\"\n",
    "    three_one_one_resource_id = \"76fda9d0-69be-4dd5-8108-0de7907fc5a4\"\n",
    "    subset = query_resource(site,\n",
    "    query=\"SELECT * FROM \\\"{}\\\" WHERE \\\"REQUEST_TYPE\\\" = '{}' ORDER BY \\\"CREATED_ON\\\" DESC LIMIT 1\".format(three_one_one_resource_id,category))\n"
   ]
  },
  {
   "cell_type": "markdown",
   "metadata": {},
   "source": [
    "# Data-putting bricks"
   ]
  },
  {
   "cell_type": "markdown",
   "metadata": {},
   "source": [
    "### Zero-configuration data-putting bricks"
   ]
  },
  {
   "cell_type": "code",
   "execution_count": 74,
   "metadata": {},
   "outputs": [],
   "source": [
    "def print_in_random_ascii_art_font(msg):\n",
    "    from art import text2art, tprint\n",
    "    tprint(msg,\"random\")\n",
    "def print_long_message_in_ascii_art_font(long_msg,font=None):\n",
    "    from art import text2art, tprint\n",
    "    for word in long_msg.split(' '):\n",
    "        if font is None:\n",
    "            tprint(word)\n",
    "        else:\n",
    "            tprint(word,font)"
   ]
  },
  {
   "cell_type": "markdown",
   "metadata": {},
   "source": [
    "### Data-putting bricks that require set-up"
   ]
  },
  {
   "cell_type": "markdown",
   "metadata": {},
   "source": [
    "#### Twilio"
   ]
  },
  {
   "cell_type": "markdown",
   "metadata": {},
   "source": [
    "# Make a brick stack"
   ]
  },
  {
   "cell_type": "code",
   "execution_count": 32,
   "metadata": {},
   "outputs": [
    {
     "name": "stdout",
     "output_type": "stream",
     "text": [
      "The Bermuda Triangle used to be the Bermuda Square, until Chuck Norris Roundhouse kicked one of the corners off.\n"
     ]
    }
   ],
   "source": [
    "print(get_another_chuck_norris_joke())\n"
   ]
  },
  {
   "cell_type": "code",
   "execution_count": 60,
   "metadata": {},
   "outputs": [
    {
     "name": "stdout",
     "output_type": "stream",
     "text": [
      " ____    ____  ____ _____    ____  ____  _     \n",
      "/  _ \\  /  _ \\/  _ \\\\__  \\  /  __\\/  __\\/ \\__/|\n",
      "| / \\|  | / \\|| / \\|  /  |  |  \\/||  \\/|| |\\/||\n",
      "| \\_/|__| \\_/|| \\_/| _\\  |  |  __/|  __/| |  ||\n",
      "\\____/\\/\\____/\\____//____/  \\_/   \\_/   \\_/  \\|\n",
      "                                               \n",
      "\n"
     ]
    }
   ],
   "source": [
    "print_in_random_ascii_art_font(max_h2s_so_far_today())"
   ]
  },
  {
   "cell_type": "code",
   "execution_count": 75,
   "metadata": {},
   "outputs": [
    {
     "name": "stdout",
     "output_type": "stream",
     "text": [
      "__        __ _                  \n",
      "\\ \\      / /| |__    ___  _ __  \n",
      " \\ \\ /\\ / / | '_ \\  / _ \\| '_ \\ \n",
      "  \\ V  V /  | | | ||  __/| | | |\n",
      "   \\_/\\_/   |_| |_| \\___||_| |_|\n",
      "                                \n",
      "\n",
      "  ____  _                   _    \n",
      " / ___|| |__   _   _   ___ | | __\n",
      "| |    | '_ \\ | | | | / __|| |/ /\n",
      "| |___ | | | || |_| || (__ |   < \n",
      " \\____||_| |_| \\__,_| \\___||_|\\_\\\n",
      "                                 \n",
      "\n",
      " _   _                     _      \n",
      "| \\ | |  ___   _ __  _ __ (_) ___ \n",
      "|  \\| | / _ \\ | '__|| '__|| |/ __|\n",
      "| |\\  || (_) || |   | |   | |\\__ \\\n",
      "|_| \\_| \\___/ |_|   |_|   |_||___/\n",
      "                                  \n",
      "\n",
      "                       _      \n",
      " ___   ___  _ __    __| | ___ \n",
      "/ __| / _ \\| '_ \\  / _` |/ __|\n",
      "\\__ \\|  __/| | | || (_| |\\__ \\\n",
      "|___/ \\___||_| |_| \\__,_||___/\n",
      "                              \n",
      "\n",
      " _        \n",
      "(_) _ __  \n",
      "| || '_ \\ \n",
      "| || | | |\n",
      "|_||_| |_|\n",
      "          \n",
      "\n",
      " _      _      \n",
      "| |__  (_) ___ \n",
      "| '_ \\ | |/ __|\n",
      "| | | || |\\__ \\\n",
      "|_| |_||_||___/\n",
      "               \n",
      "\n",
      " _                              \n",
      "| |_   __ _ __  __  ___  ___    \n",
      "| __| / _` |\\ \\/ / / _ \\/ __|   \n",
      "| |_ | (_| | >  < |  __/\\__ \\ _ \n",
      " \\__| \\__,_|/_/\\_\\ \\___||___/( )\n",
      "                             |/ \n",
      "\n",
      " _           \n",
      "| |__    ___ \n",
      "| '_ \\  / _ \\\n",
      "| | | ||  __/\n",
      "|_| |_| \\___|\n",
      "             \n",
      "\n",
      "                       _      \n",
      " ___   ___  _ __    __| | ___ \n",
      "/ __| / _ \\| '_ \\  / _` |/ __|\n",
      "\\__ \\|  __/| | | || (_| |\\__ \\\n",
      "|___/ \\___||_| |_| \\__,_||___/\n",
      "                              \n",
      "\n",
      " _      _                _    \n",
      "| |__  | |  __ _  _ __  | | __\n",
      "| '_ \\ | | / _` || '_ \\ | |/ /\n",
      "| |_) || || (_| || | | ||   < \n",
      "|_.__/ |_| \\__,_||_| |_||_|\\_\\\n",
      "                              \n",
      "\n",
      "  __                              \n",
      " / _|  ___   _ __  _ __ ___   ___ \n",
      "| |_  / _ \\ | '__|| '_ ` _ \\ / __|\n",
      "|  _|| (_) || |   | | | | | |\\__ \\\n",
      "|_|   \\___/ |_|   |_| |_| |_||___/\n",
      "                                  \n",
      "\n",
      "                   _ \n",
      "  __ _  _ __    __| |\n",
      " / _` || '_ \\  / _` |\n",
      "| (_| || | | || (_| |\n",
      " \\__,_||_| |_| \\__,_|\n",
      "                     \n",
      "\n",
      " _               _             _            \n",
      "(_) _ __    ___ | | _   _   __| |  ___  ___ \n",
      "| || '_ \\  / __|| || | | | / _` | / _ \\/ __|\n",
      "| || | | || (__ | || |_| || (_| ||  __/\\__ \\\n",
      "|_||_| |_| \\___||_| \\__,_| \\__,_| \\___||___/\n",
      "                                            \n",
      "\n",
      "               _        \n",
      "  ___   _ __  | | _   _ \n",
      " / _ \\ | '_ \\ | || | | |\n",
      "| (_) || | | || || |_| |\n",
      " \\___/ |_| |_||_| \\__, |\n",
      "                  |___/ \n",
      "\n",
      "       \n",
      "  __ _ \n",
      " / _` |\n",
      "| (_| |\n",
      " \\__,_|\n",
      "       \n",
      "\n",
      "        _        _                      \n",
      " _ __  (_)  ___ | |_  _   _  _ __   ___ \n",
      "| '_ \\ | | / __|| __|| | | || '__| / _ \\\n",
      "| |_) || || (__ | |_ | |_| || |   |  __/\n",
      "| .__/ |_| \\___| \\__| \\__,_||_|    \\___|\n",
      "|_|                                     \n",
      "\n",
      "         __ \n",
      "  ___   / _|\n",
      " / _ \\ | |_ \n",
      "| (_) ||  _|\n",
      " \\___/ |_|  \n",
      "            \n",
      "\n",
      " _      _                        _   __    \n",
      "| |__  (_) _ __ ___   ___   ___ | | / _|   \n",
      "| '_ \\ | || '_ ` _ \\ / __| / _ \\| || |_    \n",
      "| | | || || | | | | |\\__ \\|  __/| ||  _| _ \n",
      "|_| |_||_||_| |_| |_||___/ \\___||_||_|  ( )\n",
      "                                        |/ \n",
      "\n",
      "                                 _                _ \n",
      "  ___  _ __   ___   _   _   ___ | |__    ___   __| |\n",
      " / __|| '__| / _ \\ | | | | / __|| '_ \\  / _ \\ / _` |\n",
      "| (__ | |   | (_) || |_| || (__ | | | ||  __/| (_| |\n",
      " \\___||_|    \\___/  \\__,_| \\___||_| |_| \\___| \\__,_|\n",
      "                                                    \n",
      "\n",
      "                   _ \n",
      "  __ _  _ __    __| |\n",
      " / _` || '_ \\  / _` |\n",
      "| (_| || | | || (_| |\n",
      " \\__,_||_| |_| \\__,_|\n",
      "                     \n",
      "\n",
      "                        _        \n",
      " _ __   ___   __ _   __| | _   _ \n",
      "| '__| / _ \\ / _` | / _` || | | |\n",
      "| |   |  __/| (_| || (_| || |_| |\n",
      "|_|    \\___| \\__,_| \\__,_| \\__, |\n",
      "                           |___/ \n",
      "\n",
      " _          \n",
      "| |_   ___  \n",
      "| __| / _ \\ \n",
      "| |_ | (_) |\n",
      " \\__| \\___/ \n",
      "            \n",
      "\n",
      "        _    _                 _       \n",
      "  __ _ | |_ | |_   __ _   ___ | | __   \n",
      " / _` || __|| __| / _` | / __|| |/ /   \n",
      "| (_| || |_ | |_ | (_| || (__ |   <  _ \n",
      " \\__,_| \\__| \\__| \\__,_| \\___||_|\\_\\(_)\n",
      "                                       \n",
      "\n",
      "  ____  _                   _    \n",
      " / ___|| |__   _   _   ___ | | __\n",
      "| |    | '_ \\ | | | | / __|| |/ /\n",
      "| |___ | | | || |_| || (__ |   < \n",
      " \\____||_| |_| \\__,_| \\___||_|\\_\\\n",
      "                                 \n",
      "\n",
      " _   _                     _      \n",
      "| \\ | |  ___   _ __  _ __ (_) ___ \n",
      "|  \\| | / _ \\ | '__|| '__|| |/ __|\n",
      "| |\\  || (_) || |   | |   | |\\__ \\\n",
      "|_| \\_| \\___/ |_|   |_|   |_||___/\n",
      "                                  \n",
      "\n",
      " _                 \n",
      "| |__    __ _  ___ \n",
      "| '_ \\  / _` |/ __|\n",
      "| | | || (_| |\\__ \\\n",
      "|_| |_| \\__,_||___/\n",
      "                   \n",
      "\n",
      "               _   \n",
      " _ __    ___  | |_ \n",
      "| '_ \\  / _ \\ | __|\n",
      "| | | || (_) || |_ \n",
      "|_| |_| \\___/  \\__|\n",
      "                   \n",
      "\n",
      " _                 _ \n",
      "| |__    __ _   __| |\n",
      "| '_ \\  / _` | / _` |\n",
      "| | | || (_| || (_| |\n",
      "|_| |_| \\__,_| \\__,_|\n",
      "                     \n",
      "\n",
      " _          \n",
      "| |_   ___  \n",
      "| __| / _ \\ \n",
      "| |_ | (_) |\n",
      " \\__| \\___/ \n",
      "            \n",
      "\n",
      "                     \n",
      " _ __    __ _  _   _ \n",
      "| '_ \\  / _` || | | |\n",
      "| |_) || (_| || |_| |\n",
      "| .__/  \\__,_| \\__, |\n",
      "|_|            |___/ \n",
      "\n",
      " _                              \n",
      "| |_   __ _ __  __  ___  ___    \n",
      "| __| / _` |\\ \\/ / / _ \\/ __|   \n",
      "| |_ | (_| | >  < |  __/\\__ \\ _ \n",
      " \\__| \\__,_|/_/\\_\\ \\___||___/( )\n",
      "                             |/ \n",
      "\n",
      "                            \n",
      "  ___ __   __  ___  _ __    \n",
      " / _ \\\\ \\ / / / _ \\| '__|   \n",
      "|  __/ \\ V / |  __/| |    _ \n",
      " \\___|  \\_/   \\___||_|   (_)\n",
      "                            \n",
      "\n"
     ]
    }
   ],
   "source": [
    "print_long_message_in_ascii_art_font(get_another_chuck_norris_joke())"
   ]
  },
  {
   "cell_type": "markdown",
   "metadata": {},
   "source": [
    "# The end"
   ]
  },
  {
   "cell_type": "markdown",
   "metadata": {},
   "source": [
    "There's lots of other sample Jupyter notebooks to explore at [https://github.com/WPRDC/api-training](https://github.com/WPRDC/api-training) and [https://github.com/WPRDC/list-of-WPRDC-relevant-tools-and-analyses](https://github.com/WPRDC/list-of-WPRDC-relevant-tools-and-analyses)."
   ]
  },
  {
   "cell_type": "markdown",
   "metadata": {},
   "source": [
    "When you're done with this notebook, uncomment the line in the block below (by deleting the leading \"#\" character), and run the code."
   ]
  },
  {
   "cell_type": "code",
   "execution_count": 79,
   "metadata": {},
   "outputs": [],
   "source": [
    "import the_end\n",
    "#the_end.conclusion()"
   ]
  },
  {
   "cell_type": "code",
   "execution_count": null,
   "metadata": {},
   "outputs": [],
   "source": []
  }
 ],
 "metadata": {
  "kernelspec": {
   "display_name": "Python 3",
   "language": "python",
   "name": "python3"
  },
  "language_info": {
   "codemirror_mode": {
    "name": "ipython",
    "version": 3
   },
   "file_extension": ".py",
   "mimetype": "text/x-python",
   "name": "python",
   "nbconvert_exporter": "python",
   "pygments_lexer": "ipython3",
   "version": "3.6.5"
  }
 },
 "nbformat": 4,
 "nbformat_minor": 2
}
