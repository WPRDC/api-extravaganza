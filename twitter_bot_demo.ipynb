{
 "cells": [
  {
   "cell_type": "markdown",
   "metadata": {},
   "source": [
    "## Prep:\n",
    "1. Make a Twitter account\n",
    "2. Sign up at https://dev.twitter.com for a developer account\n",
    "    a. Ensure it has read/write access\n",
    "3. Make an new app under your development account\n",
    "4. Generate an access token key pair\n",
    "5. Rename `twitter_keys_sample.json` to `twitter_keys.json`\n",
    "6. Copy tokens to their respective fields in `twitter_keys.json`\n",
    "7. Install tweepy"
   ]
  },
  {
   "cell_type": "markdown",
   "metadata": {},
   "source": [
    "Import the libraries we need for this script\n",
    "* json - used for parsing JSON files\n",
    "* datetime - used to calculate yesterday's date\n",
    "* requests - makes HTTP requests. This will be used to make our API calls to the WPRDC.\n",
    "* tweepy - used to make Twitter API calls."
   ]
  },
  {
   "cell_type": "code",
   "execution_count": null,
   "metadata": {},
   "outputs": [],
   "source": [
    "import json\n",
    "from datetime import datetime, timedelta\n",
    "import requests\n",
    "import tweepy\n"
   ]
  },
  {
   "cell_type": "markdown",
   "metadata": {},
   "source": [
    "The URL of the API call we want to make.  \n",
    "`action/datastore_search_sql` searches a resource (data table) on the WPRDC using a supplied SQL statement"
   ]
  },
  {
   "cell_type": "code",
   "execution_count": null,
   "metadata": {},
   "outputs": [],
   "source": [
    "wprdc_api_endpoint = \"https://data.wprdc.org/api/3/action/datastore_search_sql\""
   ]
  },
  {
   "cell_type": "markdown",
   "metadata": {},
   "source": [
    "The resource ID of the data we want to collect. In this case, it's the `Blotter Data` resource in the [Police Blotter (30 day)](https://data.wprdc.org/dataset/police-incident-blotter) dataset."
   ]
  },
  {
   "cell_type": "code",
   "execution_count": null,
   "metadata": {},
   "outputs": [],
   "source": [
    "resource_id = \"1797ead8-8262-41cc-9099-cbc8a161924b\""
   ]
  },
  {
   "cell_type": "markdown",
   "metadata": {},
   "source": [
    "Generate yesterday's date to use in our SQL query to the WPRDC."
   ]
  },
  {
   "cell_type": "code",
   "execution_count": null,
   "metadata": {},
   "outputs": [],
   "source": [
    "# Get yesterday's date (the current date - 1 day)\n",
    "yesterday_date = datetime.now() - timedelta(days=1)\n",
    "yesterday_date"
   ]
  },
  {
   "cell_type": "code",
   "execution_count": null,
   "metadata": {},
   "outputs": [],
   "source": [
    "# Convert to a string format that the Data Center accepts (yyyy-mm-dd)\n",
    "yesterday_str = yesterday_date.strftime(\"%Y-%m-%d\")\n",
    "yesterday_str"
   ]
  },
  {
   "cell_type": "markdown",
   "metadata": {},
   "source": [
    "Generate a SQL query to select all records from the `Blotter Data` where the date is greater than or equal to yesterday's date."
   ]
  },
  {
   "cell_type": "code",
   "execution_count": null,
   "metadata": {},
   "outputs": [],
   "source": [
    "query = \"SELECT count(\\\"PK\\\") as count FROM \\\"{}\\\" WHERE \\\"INCIDENTTIME\\\" >= '{}';\".format(resource_id, yesterday_str)\n",
    "query"
   ]
  },
  {
   "cell_type": "markdown",
   "metadata": {},
   "source": [
    "Make a call to the WPRDC API\n",
    "We'll be using [`datastore_search_sql`](http://docs.ckan.org/en/latest/maintaining/datastore.html#ckanext.datastore.logic.action.datastore_search_sql) which takes only one parameter (argument): `sql`, a SQL query string.\n",
    "It will return a JSON response in the following format:\n",
    "```json\n",
    "{\n",
    "  \"help\": \"https://data.wprdc.org/api/3/action/help_show?name=datastore_search_sql\",\n",
    "  \"success\": true,\n",
    "  \"result\": {\n",
    "    \"records\": [\n",
    "      {\n",
    "        \"record1_field1\": \"a value\",\n",
    "        \"record1_field2\": \"another value\"\n",
    "      },\n",
    "      {\n",
    "        \"record2_field1\": \"some value\",\n",
    "        \"record2_field2\": \"some other value\"\n",
    "      }\n",
    "      ...  // this keeps going for each record (row) returned from your query\n",
    "    ],\n",
    "    \"fields\": [\n",
    "      {\n",
    "        \"type\": \"field1's type\",\n",
    "        \"id\": \"field1's name\"\n",
    "      },\n",
    "      {\n",
    "        \"type\": \"field2's type\",\n",
    "        \"id\": \"field2's name\"\n",
    "    ],\n",
    "    \"sql\": \"The SQL statment you sent in your request\"\n",
    "  }\n",
    "}\n",
    "```\n",
    "\n",
    "What we're interested in is what's in result => records.\n",
    "It's a list of objects which works out to be a table. Each item in the list is a row, while each object is a mapping of a column name to its value in that row."
   ]
  },
  {
   "cell_type": "markdown",
   "metadata": {},
   "source": [
    "Make API call using requests"
   ]
  },
  {
   "cell_type": "code",
   "execution_count": null,
   "metadata": {},
   "outputs": [],
   "source": [
    "response = requests.get(wprdc_api_endpoint, {'sql': query})\n",
    "response"
   ]
  },
  {
   "cell_type": "markdown",
   "metadata": {},
   "source": [
    "printing the `response` object only shows its [status code](https://en.wikipedia.org/wiki/List_of_HTTP_status_codes)\n",
    "However, the `response` object has a `text` attribute which contains the JSON-formated response we mentioned above."
   ]
  },
  {
   "cell_type": "code",
   "execution_count": null,
   "metadata": {},
   "outputs": [],
   "source": [
    "response.text"
   ]
  },
  {
   "cell_type": "code",
   "execution_count": null,
   "metadata": {},
   "outputs": [],
   "source": [
    "response_data = json.loads(response.text)\n",
    "response_data"
   ]
  },
  {
   "cell_type": "code",
   "execution_count": null,
   "metadata": {},
   "outputs": [],
   "source": [
    "print(json.dumps(response_data, sort_keys=True, indent=2, separators=(',', ': ')))  # just to demonstrate the JSON format - not required"
   ]
  },
  {
   "cell_type": "code",
   "execution_count": null,
   "metadata": {},
   "outputs": [],
   "source": [
    "count = response_data['result']['records'][0]['count']\n",
    "count"
   ]
  },
  {
   "cell_type": "markdown",
   "metadata": {},
   "source": [
    "The count is returned to us a string. If we plan to do any math with it, we'd have to convert it to an int, but since we're just printing it, we can leave it as is.\n",
    "\n",
    "That's it for the WPRDC request; now it's time to use the count we retrieved in a tweet."
   ]
  },
  {
   "cell_type": "markdown",
   "metadata": {},
   "source": [
    "# Twitter Section"
   ]
  },
  {
   "cell_type": "markdown",
   "metadata": {},
   "source": [
    "First we need to load the Twitter keys into variables.  \n",
    "*We're reading ours from a file, so we can use real keys without publicly displaying them. You can simply put them into your source code if you don't plan on making it publicly available.*\n",
    "\n",
    "If you want to use a separete key file like we do, this is what the provided sample file looks like.  Simply replace the values (to the right of the `:`) with your keys."
   ]
  },
  {
   "cell_type": "code",
   "execution_count": null,
   "metadata": {},
   "outputs": [],
   "source": [
    "with open('twitter_keys_sample.json') as f:\n",
    "    twitter_keys = json.load(f)\n",
    "    \n",
    "print(json.dumps(twitter_keys, sort_keys=True, indent = 2, separators=(',', ': ')))"
   ]
  },
  {
   "cell_type": "code",
   "execution_count": null,
   "metadata": {},
   "outputs": [],
   "source": [
    "with open('twitter_keys.json') as f:\n",
    "    twitter_keys = json.load(f)"
   ]
  },
  {
   "cell_type": "code",
   "execution_count": null,
   "metadata": {},
   "outputs": [],
   "source": [
    "consumer_key = twitter_keys['consumer_key']\n",
    "consumer_secret = twitter_keys['consumer_secret']\n",
    "access_token_key = twitter_keys['access_token_key']\n",
    "access_token_secret = twitter_keys['access_token_secret']"
   ]
  },
  {
   "cell_type": "markdown",
   "metadata": {},
   "source": [
    "Now we need to let Twitter know we are who we say we are by using our keys and secrets"
   ]
  },
  {
   "cell_type": "code",
   "execution_count": null,
   "metadata": {},
   "outputs": [],
   "source": [
    "auth = tweepy.OAuthHandler(consumer_key, consumer_secret)\n",
    "auth.set_access_token(access_token_key, access_token_secret)"
   ]
  },
  {
   "cell_type": "markdown",
   "metadata": {},
   "source": [
    "This gives us an object that proves we have authorized properly and can use Twitter under our account. We use that as the argument for tweepy.API which makes API calls to Twitter."
   ]
  },
  {
   "cell_type": "code",
   "execution_count": null,
   "metadata": {},
   "outputs": [],
   "source": [
    "twitter = tweepy.API(auth)\n",
    "twitter"
   ]
  },
  {
   "cell_type": "markdown",
   "metadata": {},
   "source": [
    "Now we can use our `twitter` object to send Tweets"
   ]
  },
  {
   "cell_type": "code",
   "execution_count": null,
   "metadata": {},
   "outputs": [],
   "source": [
    "twitter.update_status('Gee willickers! There were {} crime incidents in Pittsburgh yesterday.'.format(count))"
   ]
  },
  {
   "cell_type": "code",
   "execution_count": null,
   "metadata": {},
   "outputs": [],
   "source": []
  }
 ],
 "metadata": {
  "kernelspec": {
   "display_name": "Python 3",
   "language": "python",
   "name": "python3"
  },
  "language_info": {
   "codemirror_mode": {
    "name": "ipython",
    "version": 3
   },
   "file_extension": ".py",
   "mimetype": "text/x-python",
   "name": "python",
   "nbconvert_exporter": "python",
   "pygments_lexer": "ipython3",
   "version": "3.6.5"
  }
 },
 "nbformat": 4,
 "nbformat_minor": 1
}
