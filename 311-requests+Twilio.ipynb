{
 "cells": [
  {
   "cell_type": "markdown",
   "metadata": {},
   "source": [
    "The city of Pittsburgh government publishes all the 311 requests (complaints about things like potholes and graffiti) it receives as open data on the [WPRDC data portal](https://data.wprdc.org).\n",
    "\n",
    "To start playing with this data, we'll define a function that lets us extract information from the data portal's database by running SQL queries."
   ]
  },
  {
   "cell_type": "code",
   "execution_count": 1,
   "metadata": {},
   "outputs": [],
   "source": [
    "def query_resource(site,query):\n",
    "    \"\"\"Use the datastore_search_sql API endpoint to query a CKAN resource.\"\"\"\n",
    "    import ckanapi\n",
    "    ckan = ckanapi.RemoteCKAN(site)\n",
    "    response = ckan.action.datastore_search_sql(sql=query)\n",
    "    return response['records']"
   ]
  },
  {
   "cell_type": "markdown",
   "metadata": {},
   "source": [
    "Now let's specify the web site, the resource ID of the 311 data (which is just the end of the URL for the page where you can find the 311 data: [https://data.wprdc.org/dataset/311-data/resource/76fda9d0-69be-4dd5-8108-0de7907fc5a4](https://data.wprdc.org/dataset/311-data/resource/76fda9d0-69be-4dd5-8108-0de7907fc5a4)), and the category of 311 requests we're interested in:"
   ]
  },
  {
   "cell_type": "code",
   "execution_count": 2,
   "metadata": {},
   "outputs": [],
   "source": [
    "site = \"https://data.wprdc.org\"\n",
    "three_one_one_resource_id = \"76fda9d0-69be-4dd5-8108-0de7907fc5a4\"\n",
    "category = \"Potholes\""
   ]
  },
  {
   "cell_type": "markdown",
   "metadata": {},
   "source": [
    "Now we can run the query, which is designed to sort by the CREATED_ON field (the date and time of the complaint) and pick just the most recent one:"
   ]
  },
  {
   "cell_type": "code",
   "execution_count": 3,
   "metadata": {},
   "outputs": [
    {
     "data": {
      "text/plain": [
       "[{'STATUS': '0',\n",
       "  'POLICE_ZONE': '5',\n",
       "  'COUNCIL_DISTRICT': '7',\n",
       "  'NEIGHBORHOOD': 'Bloomfield',\n",
       "  'GEO_ACCURACY': 'EXACT',\n",
       "  'REQUEST_ORIGIN': 'Website',\n",
       "  'TRACT': '42003080200',\n",
       "  '_full_text': \"'+00':8 '-06':3 '-1':15 '-27':4 '-79.9518086':11 '0':17 '00':7,9 '10':6 '2':18 '2018':2 '264240':12 '3':14 '40.4614121':21 '42003080200':16 '5':19 '7':10 '8':22 'bloomfield':13 'dpw':23 'exact':26 'mainten':25 'pothol':20 'street':24 't13':5 'websit':1\",\n",
       "  'REQUEST_TYPE': 'Potholes',\n",
       "  'PLI_DIVISION': '8',\n",
       "  'Y': 40.4614121,\n",
       "  'CREATED_ON': '2018-06-27T13:10:00',\n",
       "  'PUBLIC_WORKS_DIVISION': '2',\n",
       "  'REQUEST_ID': '264240',\n",
       "  'DEPARTMENT': 'DPW - Street Maintenance',\n",
       "  'X': -79.9518086,\n",
       "  'WARD': '8',\n",
       "  '_id': 252495,\n",
       "  'FIRE_ZONE': '3-1'}]"
      ]
     },
     "execution_count": 3,
     "metadata": {},
     "output_type": "execute_result"
    }
   ],
   "source": [
    "query_resource(site,\n",
    "query=\"SELECT * FROM \\\"{}\\\" WHERE \\\"REQUEST_TYPE\\\" = '{}' ORDER BY \\\"CREATED_ON\\\" DESC LIMIT 1\".format(three_one_one_resource_id,category))"
   ]
  },
  {
   "cell_type": "markdown",
   "metadata": {},
   "source": [
    "The response gives us (among other details) the neighborhood where the pothole was reported, as well as the exact X and Y (longitude and latitude) coordinates of the pothole. (Some types of 311 requests do not have exact geocoordinates, in order to protect people's privacy.\n",
    "\n",
    "One other intriguing field is STATUS, which has value of 0 (indicating that the request is new), 1 (indicating that the request has been closed), or 3 (indicating that the request is open)."
   ]
  },
  {
   "cell_type": "code",
   "execution_count": 9,
   "metadata": {},
   "outputs": [],
   "source": [
    "def get_most_recent_311_request(category=None, neighborhood=None):\n",
    "    \"\"\"Get the most recent 311 complaint for the City of Pittsburgh based on category and neighborhood.\n",
    "    \n",
    "    Returns a string describing the request.\"\"\"\n",
    "    def query_resource(site,query):\n",
    "        \"\"\"Use the datastore_search_sql API endpoint to query a CKAN resource.\"\"\"\n",
    "        import ckanapi\n",
    "        ckan = ckanapi.RemoteCKAN(site)\n",
    "        response = ckan.action.datastore_search_sql(sql=query)\n",
    "        return response['records']\n",
    "        site = \"https://data.wprdc.org\"\n",
    "    three_one_one_resource_id = \"76fda9d0-69be-4dd5-8108-0de7907fc5a4\"\n",
    "    \n",
    "    if category is None:\n",
    "        if neighborhood is None:\n",
    "            subset = query_resource(site,\n",
    "    query=\"SELECT * FROM \\\"{}\\\" ORDER BY \\\"CREATED_ON\\\" DESC LIMIT 1\".format(three_one_one_resource_id,category))\n",
    "            record = subset[0]\n",
    "            description = \"The most recent 311 complaint for all of Pittsburgh was on {}, was about {}, and was for {}.\".format(record['CREATED_ON'], record['REQUEST_TYPE'], record['NEIGHBORHOOD'])\n",
    "        else:\n",
    "            subset = query_resource(site,\n",
    "    query=\"SELECT * FROM \\\"{}\\\" WHERE \\\"NEIGHBORHOOD\\\" = '{}' ORDER BY \\\"CREATED_ON\\\" DESC LIMIT 1\".format(three_one_one_resource_id,neighborhood))\n",
    "            record = subset[0]\n",
    "            description = \"The most recent 311 complaint for {} was on {} and was about {}.\".format(record['NEIGHBORHOOD'], record['CREATED_ON'], record['REQUEST_TYPE'])\n",
    "    else: # A 311 request category has been given\n",
    "        if neighborhood is None:\n",
    "            subset = query_resource(site,\n",
    "    query=\"SELECT * FROM \\\"{}\\\" WHERE \\\"REQUEST_TYPE\\\" = '{}' ORDER BY \\\"CREATED_ON\\\" DESC LIMIT 1\".format(three_one_one_resource_id,category))\n",
    "            record = subset[0]\n",
    "            description = \"The most recent 311 {} complaint for all of Pittsburgh was on {} and was for {}.\".format(record['REQUEST_TYPE'], record['CREATED_ON'], record['NEIGHBORHOOD'])\n",
    "        else:\n",
    "            subset = query_resource(site,\n",
    "    query=\"SELECT * FROM \\\"{}\\\" WHERE \\\"REQUEST_TYPE\\\" = '{}' AND \\\"NEIGHBORHOOD\\\" = '{}' ORDER BY \\\"CREATED_ON\\\" DESC LIMIT 1\".format(three_one_one_resource_id,category,neighborhood))\n",
    "            record = subset[0]\n",
    "            description = \"The most recent 311 complaint for {} was on {} and was about {}.\".format(record['NEIGHBORHOOD'], record['CREATED_ON'], record['REQUEST_TYPE'])\n",
    "    \n",
    "    return subset[0], description # This returns a dictionary object which has all the fields (like CREATED_ON) for the most recent request.\n"
   ]
  },
  {
   "cell_type": "markdown",
   "metadata": {},
   "source": [
    "Let's use the above function to get the most recent 311 complaint about a dead animal."
   ]
  },
  {
   "cell_type": "code",
   "execution_count": 10,
   "metadata": {},
   "outputs": [],
   "source": [
    "dead_animal_record, latest_dead_animal_msg = get_most_recent_311_request(category=\"Dead Animal\", neighborhood=None)"
   ]
  },
  {
   "cell_type": "code",
   "execution_count": 11,
   "metadata": {},
   "outputs": [
    {
     "name": "stdout",
     "output_type": "stream",
     "text": [
      "The most recent 311 Dead Animal complaint for all of Pittsburgh was on 2018-06-27T07:23:00 and was for Garfield.\n"
     ]
    }
   ],
   "source": [
    "print(latest_dead_animal_msg)"
   ]
  },
  {
   "cell_type": "markdown",
   "metadata": {},
   "source": [
    "We could use the record and write a more specific kind of message:"
   ]
  },
  {
   "cell_type": "code",
   "execution_count": 12,
   "metadata": {},
   "outputs": [
    {
     "name": "stdout",
     "output_type": "stream",
     "text": [
      "News flash! A new data animal was found in Garfield.\n"
     ]
    }
   ],
   "source": [
    "output = \"News flash! A new data animal was found in {}.\".format(dead_animal_record['NEIGHBORHOOD'])\n",
    "print(output)"
   ]
  },
  {
   "cell_type": "markdown",
   "metadata": {},
   "source": [
    "But if we keep running the above code, we'll get multiple notifications about the same dead animal. To avoid this, let's keep track of the last request ID:"
   ]
  },
  {
   "cell_type": "code",
   "execution_count": 14,
   "metadata": {},
   "outputs": [
    {
     "name": "stdout",
     "output_type": "stream",
     "text": [
      "264010\n"
     ]
    }
   ],
   "source": [
    "last_request_id = dead_animal_record['REQUEST_ID']\n",
    "print(last_request_id)"
   ]
  },
  {
   "cell_type": "code",
   "execution_count": 15,
   "metadata": {},
   "outputs": [],
   "source": [
    "def check_for_new_dead_animal(previous_request_id, neighborhood=None):\n",
    "    dead_animal_record, latest_dead_animal_msg = get_most_recent_311_request(category=\"Dead Animal\", neighborhood=neighborhood)\n",
    "    current_request_id = dead_animal_record['REQUEST_ID']\n",
    "    if previous_request_id != current_request_id:\n",
    "        output = \"News flash! A new data animal was found in {}.\".format(dead_animal_record['NEIGHBORHOOD'])\n",
    "        print(output)\n",
    "    else:\n",
    "        output = None\n",
    "    return current_request_id, output"
   ]
  },
  {
   "cell_type": "markdown",
   "metadata": {},
   "source": [
    "To set up to check for the latest dead animal in Pittsburgh, first initial latest_request_id to None, so the first one it finds will be returned (the first time)."
   ]
  },
  {
   "cell_type": "code",
   "execution_count": 16,
   "metadata": {},
   "outputs": [],
   "source": [
    "latest_request_id = None"
   ]
  },
  {
   "cell_type": "markdown",
   "metadata": {},
   "source": [
    "Now you can keep running the command below, and (after the first run) it will only print a message if a new dead animal was found. The returned \"output\" value will contain the same message. Otherwise (if there's no new records), it will return an output value of None."
   ]
  },
  {
   "cell_type": "code",
   "execution_count": 18,
   "metadata": {},
   "outputs": [],
   "source": [
    "latest_request_id, output = check_for_new_dead_animal(latest_request_id)"
   ]
  },
  {
   "cell_type": "markdown",
   "metadata": {},
   "source": [
    "## Using Twilio to place phone calls and send text messages"
   ]
  },
  {
   "cell_type": "code",
   "execution_count": null,
   "metadata": {},
   "outputs": [],
   "source": [
    "import twilio"
   ]
  },
  {
   "cell_type": "markdown",
   "metadata": {},
   "source": [
    "Below is a set of steps to set up your Twilio account. (Twilio's also got that own [walkthrough for getting started](https://www.twilio.com/docs/voice/quickstart/python).)\n",
    "  \n",
    "  \n",
    "\n",
    "First, go to this link to sign up for an account:  \n",
    "    [https://www.twilio.com/try-twilio](https://www.twilio.com/try-twilio)\n",
    "    \n",
    "It only takes a few minutes. You have to give them a phone number so they can text you a verification code. Once you input that, you should be up and running.\n",
    "\n"
   ]
  },
  {
   "cell_type": "markdown",
   "metadata": {},
   "source": [
    "Go to this page:\n",
    "    [https://www.twilio.com/console/voice/build/getting-started](https://www.twilio.com/console/voice/build/getting-started)\n",
    "    \n",
    "and click on the link that says \"Show API Credentials\"."
   ]
  },
  {
   "cell_type": "code",
   "execution_count": 24,
   "metadata": {},
   "outputs": [],
   "source": [
    "TWILIO_ACCOUNT_SID=\"fillthisinwithyourown\"\n",
    "TWILIO_AUTH_TOKEN=\"googoosechewychewing\"\n",
    "if TWILIO_ACCOUNT_SID==\"fillthisinwithyourown\":\n",
    "    from settings import TWILIO_ACCOUNT_SID, TWILIO_AUTH_TOKEN"
   ]
  },
  {
   "cell_type": "markdown",
   "metadata": {},
   "source": [
    "That page will also prompt you to choose a Twilio phone number. Copy and paste that number into the TWILIO_PHONE_NUMBER variable definition below."
   ]
  },
  {
   "cell_type": "code",
   "execution_count": 31,
   "metadata": {},
   "outputs": [],
   "source": [
    "TWILIO_PHONE_NUMBER = \"+14125555555\" # The Twilio phone number you picked."
   ]
  },
  {
   "cell_type": "markdown",
   "metadata": {},
   "source": [
    "Finally specify the number you want to call, by defining a NUMBER_TO_CALL in the cell below."
   ]
  },
  {
   "cell_type": "code",
   "execution_count": null,
   "metadata": {},
   "outputs": [],
   "source": [
    "NUMBER_TO_CALL = \"+14125550000\" # The number you want to place the call to. Change this to your own cell phone number."
   ]
  },
  {
   "cell_type": "markdown",
   "metadata": {},
   "source": [
    "Both phone numbers should start with a \"+1\" and then have ten more digits."
   ]
  },
  {
   "cell_type": "markdown",
   "metadata": {},
   "source": [
    "Now execute the block of code below. If you told Twilio to call your own phone, your phone should ring. Answer it!\n",
    "\n",
    "When asked to enter a code, hit the \"5\" on the phone pad, and continue listening."
   ]
  },
  {
   "cell_type": "code",
   "execution_count": null,
   "metadata": {},
   "outputs": [],
   "source": [
    "# Download the helper library from https://www.twilio.com/docs/python/install\n",
    "from twilio.rest import Client\n",
    "\n",
    "# Your Account Sid and Auth Token can be found at twilio.com/console\n",
    "client = Client(TWILIO_ACCOUNT_SID, TWILIO_AUTH_TOKEN)\n",
    "\n",
    "call = client.calls.create(\n",
    "                        url='http://demo.twilio.com/docs/voice.xml',\n",
    "                        to=NUMBER_TO_CALL,\n",
    "                        from_=TWILIO_PHONE_NUMBER # formatted like this: '+15017122661'\n",
    "                    )\n",
    "\n",
    "print(call.sid)"
   ]
  },
  {
   "cell_type": "markdown",
   "metadata": {},
   "source": [
    "Now let's use Twilio's sample code for sending text messages and make a simple function out of it."
   ]
  },
  {
   "cell_type": "code",
   "execution_count": 44,
   "metadata": {},
   "outputs": [],
   "source": [
    "def send_sms(text, target_number, your_twilio_number, account_sid, auth_token):\n",
    "    from twilio.rest import Client\n",
    "    client = Client(account_sid, auth_token)\n",
    "\n",
    "    message = client.messages \\\n",
    "        .create(\n",
    "             body=text,\n",
    "             from_=your_twilio_number,\n",
    "             to=target_number\n",
    "         )\n",
    "\n",
    "    print(message.sid)"
   ]
  },
  {
   "cell_type": "markdown",
   "metadata": {},
   "source": [
    "Now we can send a message by calling that function with the message as the first argument."
   ]
  },
  {
   "cell_type": "code",
   "execution_count": 46,
   "metadata": {},
   "outputs": [
    {
     "name": "stdout",
     "output_type": "stream",
     "text": [
      "SM268ca79fdeeb41179f735d0c1059d290\n"
     ]
    }
   ],
   "source": [
    "send_sms(\"Where on Earth is the pizza guy?\",NUMBER_TO_CALL,TWILIO_PHONE_NUMBER,TWILIO_ACCOUNT_SID,TWILIO_AUTH_TOKEN)"
   ]
  },
  {
   "cell_type": "code",
   "execution_count": null,
   "metadata": {},
   "outputs": [],
   "source": []
  }
 ],
 "metadata": {
  "kernelspec": {
   "display_name": "Python 3",
   "language": "python",
   "name": "python3"
  },
  "language_info": {
   "codemirror_mode": {
    "name": "ipython",
    "version": 3
   },
   "file_extension": ".py",
   "mimetype": "text/x-python",
   "name": "python",
   "nbconvert_exporter": "python",
   "pygments_lexer": "ipython3",
   "version": "3.6.5"
  }
 },
 "nbformat": 4,
 "nbformat_minor": 2
}
